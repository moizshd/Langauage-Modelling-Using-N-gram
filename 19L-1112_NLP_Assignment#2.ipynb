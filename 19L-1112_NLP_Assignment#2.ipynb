{
  "nbformat": 4,
  "nbformat_minor": 0,
  "metadata": {
    "colab": {
      "provenance": [],
      "collapsed_sections": []
    },
    "kernelspec": {
      "name": "python3",
      "display_name": "Python 3"
    },
    "language_info": {
      "name": "python"
    }
  },
  "cells": [
    {
      "cell_type": "code",
      "execution_count": 248,
      "metadata": {
        "colab": {
          "base_uri": "https://localhost:8080/"
        },
        "id": "_sWBQYO8VRKK",
        "outputId": "b00e95f8-a75d-4ff3-fabf-4200faf526c0"
      },
      "outputs": [
        {
          "output_type": "stream",
          "name": "stderr",
          "text": [
            "[nltk_data] Downloading package punkt to /root/nltk_data...\n",
            "[nltk_data]   Package punkt is already up-to-date!\n"
          ]
        }
      ],
      "source": [
        "import spacy\n",
        "import nltk\n",
        "import csv\n",
        "from nltk.tokenize import word_tokenize\n",
        "from collections import defaultdict\n",
        "nltk.download('punkt')\n",
        "import numpy as np\n",
        "from itertools import islice"
      ]
    },
    {
      "cell_type": "code",
      "source": [
        "with open('CORPUS.txt', 'r') as file:\n",
        "    data = file.read().replace('\\n', '')\n"
      ],
      "metadata": {
        "id": "QY0EsCWTYH3G"
      },
      "execution_count": 249,
      "outputs": []
    },
    {
      "cell_type": "code",
      "source": [
        "message=data.lower()\n",
        "tokens=word_tokenize(message)\n"
      ],
      "metadata": {
        "id": "HShd9GbbZkpm"
      },
      "execution_count": 250,
      "outputs": []
    },
    {
      "cell_type": "code",
      "source": [
        "print(tokens[1:50])"
      ],
      "metadata": {
        "colab": {
          "base_uri": "https://localhost:8080/"
        },
        "id": "DWOX67_3bJ-U",
        "outputId": "58560e1d-3b8c-40bc-a2fe-bdc483ec3169"
      },
      "execution_count": 251,
      "outputs": [
        {
          "output_type": "stream",
          "name": "stdout",
          "text": [
            "['fulton', 'county', 'grand', 'jury', 'said', 'friday', 'an', 'investigation', 'of', 'atlanta', \"'s\", 'recent', 'primary', 'election', 'produced', '``', 'no', 'evidence', '``', 'that', 'any', 'irregularities', 'took', 'place', '.the', 'jury', 'further', 'said', 'in', 'term-end', 'presentments', 'that', 'the', 'city', 'executive', 'committee', ',', 'which', 'had', 'over-all', 'charge', 'of', 'the', 'election', ',', '``', 'deserves', 'the', 'praise']\n"
          ]
        }
      ]
    },
    {
      "cell_type": "code",
      "source": [
        "def splitgrams(tokens,no_of_grams):\n",
        "  grams=[]\n",
        "  for i in range(len(tokens)-no_of_grams+1):\n",
        "    grams.append(tokens[i:i+no_of_grams])\n",
        "  return grams\n"
      ],
      "metadata": {
        "id": "-D8ioUmPcEE0"
      },
      "execution_count": 252,
      "outputs": []
    },
    {
      "cell_type": "code",
      "source": [
        "list_of_grams=(splitgrams(tokens,3))\n",
        "print(list_of_grams[1:50])"
      ],
      "metadata": {
        "colab": {
          "base_uri": "https://localhost:8080/"
        },
        "id": "w7uWdWUBeMIQ",
        "outputId": "9696d9bb-d7d4-4311-febc-dd6f22866173"
      },
      "execution_count": 253,
      "outputs": [
        {
          "output_type": "stream",
          "name": "stdout",
          "text": [
            "[['fulton', 'county', 'grand'], ['county', 'grand', 'jury'], ['grand', 'jury', 'said'], ['jury', 'said', 'friday'], ['said', 'friday', 'an'], ['friday', 'an', 'investigation'], ['an', 'investigation', 'of'], ['investigation', 'of', 'atlanta'], ['of', 'atlanta', \"'s\"], ['atlanta', \"'s\", 'recent'], [\"'s\", 'recent', 'primary'], ['recent', 'primary', 'election'], ['primary', 'election', 'produced'], ['election', 'produced', '``'], ['produced', '``', 'no'], ['``', 'no', 'evidence'], ['no', 'evidence', '``'], ['evidence', '``', 'that'], ['``', 'that', 'any'], ['that', 'any', 'irregularities'], ['any', 'irregularities', 'took'], ['irregularities', 'took', 'place'], ['took', 'place', '.the'], ['place', '.the', 'jury'], ['.the', 'jury', 'further'], ['jury', 'further', 'said'], ['further', 'said', 'in'], ['said', 'in', 'term-end'], ['in', 'term-end', 'presentments'], ['term-end', 'presentments', 'that'], ['presentments', 'that', 'the'], ['that', 'the', 'city'], ['the', 'city', 'executive'], ['city', 'executive', 'committee'], ['executive', 'committee', ','], ['committee', ',', 'which'], [',', 'which', 'had'], ['which', 'had', 'over-all'], ['had', 'over-all', 'charge'], ['over-all', 'charge', 'of'], ['charge', 'of', 'the'], ['of', 'the', 'election'], ['the', 'election', ','], ['election', ',', '``'], [',', '``', 'deserves'], ['``', 'deserves', 'the'], ['deserves', 'the', 'praise'], ['the', 'praise', 'and'], ['praise', 'and', 'thanks']]\n"
          ]
        }
      ]
    },
    {
      "cell_type": "code",
      "source": [
        "def matrixprobs(dict_with_probs,noofgrams):\n",
        "  for item in noofgrams:\n",
        "    fulllength=str(item[:-1])\n",
        "    sumofallcounts=sum(dict_with_probs[fulllength].values())\n",
        "    for w_n in dict_with_probs[fulllength]:\n",
        "      try:\n",
        "        dict_with_probs[fulllength][w_n]=dict_with_probs[fulllength][w_n]/sumofallcounts\n",
        "      except:\n",
        "        print(w_n,sumofallcounts) \n",
        "        # break\n",
        "  return dict_with_probs\n",
        "\n",
        "  \n"
      ],
      "metadata": {
        "id": "yWcbMElP76yN"
      },
      "execution_count": 254,
      "outputs": []
    },
    {
      "cell_type": "code",
      "source": [
        "dictt = defaultdict(lambda:defaultdict(lambda:0))\n",
        "for item in list_of_grams:\n",
        "  fulllength=str(item[:-1])\n",
        "  w_n=str(item[-1])\n",
        "  dictt[fulllength][w_n]+=1\n",
        "dictt=matrixprobs(dictt,list_of_grams)\n"
      ],
      "metadata": {
        "id": "t2qZSh4fQWLq"
      },
      "execution_count": 255,
      "outputs": []
    },
    {
      "cell_type": "code",
      "source": [
        "def applyformula(dictwithturing,unknown_word,fulllength,totalwords):\n",
        "  unknown_word_prob=[]\n",
        "  for w_n in dictwithturing[fulllength]:\n",
        "      dictwithturing[fulllength][w_n]=dictwithturing[fulllength][w_n]/totalwords\n",
        "      print(w_n,totalwords) \n",
        "  return unknown_word_prob\n"
      ],
      "metadata": {
        "id": "2aW-Y4UiiyGg"
      },
      "execution_count": 256,
      "outputs": []
    },
    {
      "cell_type": "code",
      "source": [
        "def GoodTuringsmoothing(dictwithturing):\n",
        "  totalwords=len(tokens)\n",
        "  for item in list_of_grams:\n",
        "    fulllength=str(item[:-1])\n",
        "    w_n=str(item[-1])\n",
        "    unknown_word=[]\n",
        "    for w_n in dictwithturing[fulllength]:\n",
        "      try:\n",
        "          dictwithturing[fulllength][w_n]=dictwithturing[fulllength][w_n]/totalwords\n",
        "      except:\n",
        "          print(w_n,totalwords) \n",
        "      unknownwordprob=applyformula(dictwithturing,unknown_word,fulllength,totalwords)\n",
        "  return dictwithturing\n"
      ],
      "metadata": {
        "id": "xSzGSI2rh6Ew"
      },
      "execution_count": 257,
      "outputs": []
    },
    {
      "cell_type": "code",
      "source": [
        "print(dictt[str(list_of_grams[0][:-1])].values())\n",
        "# print(dictt[str('the','fulton')].values())\n",
        "print(list_of_grams[0])\n",
        "# type(list_of_grams[0])\n",
        "ss=['the','fulton']\n",
        "print(dictt[str(ss)].values())"
      ],
      "metadata": {
        "id": "QFspxQqvYuiX"
      },
      "execution_count": null,
      "outputs": []
    },
    {
      "cell_type": "code",
      "source": [
        "def take(n, iterable):\n",
        "    \"Return first n items of the iterable as a list\"\n",
        "    return list(islice(iterable, n))"
      ],
      "metadata": {
        "id": "wpqGt7OlQprQ"
      },
      "execution_count": 259,
      "outputs": []
    },
    {
      "cell_type": "code",
      "source": [
        "string=['there','is']\n",
        "desclist=list(dictt[str(string)].values())\n",
        "desclist.sort(reverse=True)\n",
        "dictionar={k: v for k, v in sorted(dictt[str(string)].items(),reverse=True, key=lambda item: item[1])}\n",
        "n_items = take(3, dictionar.items())\n",
        "for i in range(3):\n",
        "  print(i+1 ,'option : ',n_items[i][0])\n",
        "\n",
        "  \n"
      ],
      "metadata": {
        "colab": {
          "base_uri": "https://localhost:8080/"
        },
        "id": "mPinI3l0_iKx",
        "outputId": "c8d7caee-b9ad-43a7-a024-76fe90dc5d87"
      },
      "execution_count": 260,
      "outputs": [
        {
          "output_type": "stream",
          "name": "stdout",
          "text": [
            "1 option :  a\n",
            "2 option :  no\n",
            "3 option :  nothing\n"
          ]
        }
      ]
    }
  ]
}